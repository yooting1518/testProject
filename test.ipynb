{
 "cells": [
  {
   "cell_type": "code",
   "execution_count": 15,
   "metadata": {},
   "outputs": [
    {
     "name": "stdout",
     "output_type": "stream",
     "text": [
      "hello world\n"
     ]
    }
   ],
   "source": [
    "print('hello world')"
   ]
  },
  {
   "cell_type": "code",
   "execution_count": 12,
   "metadata": {},
   "outputs": [
    {
     "name": "stdout",
     "output_type": "stream",
     "text": [
      "Requirement already satisfied: python-telegram-bot in c:\\pusun\\lib\\site-packages (13.14)\n",
      "Requirement already satisfied: certifi in c:\\pusun\\lib\\site-packages (from python-telegram-bot) (2023.11.17)\n",
      "Requirement already satisfied: tornado==6.1 in c:\\pusun\\lib\\site-packages (from python-telegram-bot) (6.1)\n",
      "Requirement already satisfied: APScheduler==3.6.3 in c:\\pusun\\lib\\site-packages (from python-telegram-bot) (3.6.3)\n",
      "Requirement already satisfied: pytz>=2018.6 in c:\\pusun\\lib\\site-packages (from python-telegram-bot) (2023.4)\n",
      "Requirement already satisfied: cachetools==4.2.2 in c:\\pusun\\lib\\site-packages (from python-telegram-bot) (4.2.2)\n",
      "Requirement already satisfied: setuptools>=0.7 in c:\\pusun\\lib\\site-packages (from APScheduler==3.6.3->python-telegram-bot) (69.0.3)\n",
      "Requirement already satisfied: six>=1.4.0 in c:\\users\\user\\appdata\\roaming\\python\\python312\\site-packages (from APScheduler==3.6.3->python-telegram-bot) (1.16.0)\n",
      "Requirement already satisfied: tzlocal>=1.2 in c:\\pusun\\lib\\site-packages (from APScheduler==3.6.3->python-telegram-bot) (5.2)\n",
      "Requirement already satisfied: tzdata in c:\\pusun\\lib\\site-packages (from tzlocal>=1.2->APScheduler==3.6.3->python-telegram-bot) (2023.4)\n",
      "Note: you may need to restart the kernel to use updated packages.\n"
     ]
    },
    {
     "name": "stderr",
     "output_type": "stream",
     "text": [
      "\n",
      "[notice] A new release of pip is available: 23.2.1 -> 23.3.2\n",
      "[notice] To update, run: python.exe -m pip install --upgrade pip\n"
     ]
    }
   ],
   "source": [
    "pip install python-telegram-bot"
   ]
  },
  {
   "cell_type": "code",
   "execution_count": 16,
   "metadata": {},
   "outputs": [
    {
     "name": "stdout",
     "output_type": "stream",
     "text": [
      "Requirement already satisfied: asyncio in c:\\pusun\\lib\\site-packages (3.4.3)\n",
      "Note: you may need to restart the kernel to use updated packages.\n"
     ]
    },
    {
     "name": "stderr",
     "output_type": "stream",
     "text": [
      "\n",
      "[notice] A new release of pip is available: 23.2.1 -> 23.3.2\n",
      "[notice] To update, run: python.exe -m pip install --upgrade pip\n"
     ]
    }
   ],
   "source": [
    "pip install asyncio"
   ]
  },
  {
   "cell_type": "code",
   "execution_count": 17,
   "metadata": {},
   "outputs": [
    {
     "name": "stdout",
     "output_type": "stream",
     "text": [
      "Requirement already satisfied: python-telegram-bot==13.14 in c:\\pusun\\lib\\site-packages (13.14)\n",
      "Requirement already satisfied: certifi in c:\\pusun\\lib\\site-packages (from python-telegram-bot==13.14) (2023.11.17)\n",
      "Requirement already satisfied: tornado==6.1 in c:\\pusun\\lib\\site-packages (from python-telegram-bot==13.14) (6.1)\n",
      "Requirement already satisfied: APScheduler==3.6.3 in c:\\pusun\\lib\\site-packages (from python-telegram-bot==13.14) (3.6.3)\n",
      "Requirement already satisfied: pytz>=2018.6 in c:\\pusun\\lib\\site-packages (from python-telegram-bot==13.14) (2023.4)\n",
      "Requirement already satisfied: cachetools==4.2.2 in c:\\pusun\\lib\\site-packages (from python-telegram-bot==13.14) (4.2.2)\n",
      "Requirement already satisfied: setuptools>=0.7 in c:\\pusun\\lib\\site-packages (from APScheduler==3.6.3->python-telegram-bot==13.14) (69.0.3)\n",
      "Requirement already satisfied: six>=1.4.0 in c:\\users\\user\\appdata\\roaming\\python\\python312\\site-packages (from APScheduler==3.6.3->python-telegram-bot==13.14) (1.16.0)\n",
      "Requirement already satisfied: tzlocal>=1.2 in c:\\pusun\\lib\\site-packages (from APScheduler==3.6.3->python-telegram-bot==13.14) (5.2)\n",
      "Requirement already satisfied: tzdata in c:\\pusun\\lib\\site-packages (from tzlocal>=1.2->APScheduler==3.6.3->python-telegram-bot==13.14) (2023.4)\n",
      "Note: you may need to restart the kernel to use updated packages.\n"
     ]
    },
    {
     "name": "stderr",
     "output_type": "stream",
     "text": [
      "\n",
      "[notice] A new release of pip is available: 23.2.1 -> 23.3.2\n",
      "[notice] To update, run: python.exe -m pip install --upgrade pip\n"
     ]
    }
   ],
   "source": [
    "pip install python-telegram-bot==13.14"
   ]
  },
  {
   "cell_type": "code",
   "execution_count": 18,
   "metadata": {},
   "outputs": [
    {
     "name": "stderr",
     "output_type": "stream",
     "text": [
      "c:\\pusun\\Lib\\site-packages\\telegram\\utils\\request.py:54: UserWarning: python-telegram-bot wasn't properly installed. Please refer to README.rst on how to properly install.\n",
      "  warnings.warn(\n"
     ]
    },
    {
     "ename": "ModuleNotFoundError",
     "evalue": "No module named 'urllib3.contrib.appengine'",
     "output_type": "error",
     "traceback": [
      "\u001b[1;31m---------------------------------------------------------------------------\u001b[0m",
      "\u001b[1;31mModuleNotFoundError\u001b[0m                       Traceback (most recent call last)",
      "File \u001b[1;32mc:\\pusun\\Lib\\site-packages\\telegram\\utils\\request.py:36\u001b[0m\n\u001b[0;32m     35\u001b[0m \u001b[38;5;28;01mtry\u001b[39;00m:\n\u001b[1;32m---> 36\u001b[0m     \u001b[38;5;28;01mimport\u001b[39;00m \u001b[38;5;21;01mtelegram\u001b[39;00m\u001b[38;5;21;01m.\u001b[39;00m\u001b[38;5;21;01mvendor\u001b[39;00m\u001b[38;5;21;01m.\u001b[39;00m\u001b[38;5;21;01mptb_urllib3\u001b[39;00m\u001b[38;5;21;01m.\u001b[39;00m\u001b[38;5;21;01murllib3\u001b[39;00m \u001b[38;5;28;01mas\u001b[39;00m \u001b[38;5;21;01murllib3\u001b[39;00m\n\u001b[0;32m     37\u001b[0m     \u001b[38;5;28;01mimport\u001b[39;00m \u001b[38;5;21;01mtelegram\u001b[39;00m\u001b[38;5;21;01m.\u001b[39;00m\u001b[38;5;21;01mvendor\u001b[39;00m\u001b[38;5;21;01m.\u001b[39;00m\u001b[38;5;21;01mptb_urllib3\u001b[39;00m\u001b[38;5;21;01m.\u001b[39;00m\u001b[38;5;21;01murllib3\u001b[39;00m\u001b[38;5;21;01m.\u001b[39;00m\u001b[38;5;21;01mcontrib\u001b[39;00m\u001b[38;5;21;01m.\u001b[39;00m\u001b[38;5;21;01mappengine\u001b[39;00m \u001b[38;5;28;01mas\u001b[39;00m \u001b[38;5;21;01mappengine\u001b[39;00m\n",
      "File \u001b[1;32mc:\\pusun\\Lib\\site-packages\\telegram\\vendor\\ptb_urllib3\\urllib3\\__init__.py:7\u001b[0m\n\u001b[0;32m      5\u001b[0m \u001b[38;5;28;01mimport\u001b[39;00m \u001b[38;5;21;01mwarnings\u001b[39;00m\n\u001b[1;32m----> 7\u001b[0m \u001b[38;5;28;01mfrom\u001b[39;00m \u001b[38;5;21;01m.\u001b[39;00m\u001b[38;5;21;01mconnectionpool\u001b[39;00m \u001b[38;5;28;01mimport\u001b[39;00m (\n\u001b[0;32m      8\u001b[0m     HTTPConnectionPool,\n\u001b[0;32m      9\u001b[0m     HTTPSConnectionPool,\n\u001b[0;32m     10\u001b[0m     connection_from_url\n\u001b[0;32m     11\u001b[0m )\n\u001b[0;32m     13\u001b[0m \u001b[38;5;28;01mfrom\u001b[39;00m \u001b[38;5;21;01m.\u001b[39;00m \u001b[38;5;28;01mimport\u001b[39;00m exceptions\n",
      "File \u001b[1;32mc:\\pusun\\Lib\\site-packages\\telegram\\vendor\\ptb_urllib3\\urllib3\\connectionpool.py:11\u001b[0m\n\u001b[0;32m      8\u001b[0m \u001b[38;5;28;01mimport\u001b[39;00m \u001b[38;5;21;01msocket\u001b[39;00m\n\u001b[1;32m---> 11\u001b[0m \u001b[38;5;28;01mfrom\u001b[39;00m \u001b[38;5;21;01m.\u001b[39;00m\u001b[38;5;21;01mexceptions\u001b[39;00m \u001b[38;5;28;01mimport\u001b[39;00m (\n\u001b[0;32m     12\u001b[0m     ClosedPoolError,\n\u001b[0;32m     13\u001b[0m     ProtocolError,\n\u001b[0;32m     14\u001b[0m     EmptyPoolError,\n\u001b[0;32m     15\u001b[0m     HeaderParsingError,\n\u001b[0;32m     16\u001b[0m     HostChangedError,\n\u001b[0;32m     17\u001b[0m     LocationValueError,\n\u001b[0;32m     18\u001b[0m     MaxRetryError,\n\u001b[0;32m     19\u001b[0m     ProxyError,\n\u001b[0;32m     20\u001b[0m     ReadTimeoutError,\n\u001b[0;32m     21\u001b[0m     SSLError,\n\u001b[0;32m     22\u001b[0m     \u001b[38;5;167;01mTimeoutError\u001b[39;00m,\n\u001b[0;32m     23\u001b[0m     InsecureRequestWarning,\n\u001b[0;32m     24\u001b[0m     NewConnectionError,\n\u001b[0;32m     25\u001b[0m     ConnectTimeoutError,\n\u001b[0;32m     26\u001b[0m )\n\u001b[0;32m     27\u001b[0m \u001b[38;5;28;01mfrom\u001b[39;00m \u001b[38;5;21;01m.\u001b[39;00m\u001b[38;5;21;01mpackages\u001b[39;00m\u001b[38;5;21;01m.\u001b[39;00m\u001b[38;5;21;01mssl_match_hostname\u001b[39;00m \u001b[38;5;28;01mimport\u001b[39;00m CertificateError\n",
      "File \u001b[1;32mc:\\pusun\\Lib\\site-packages\\telegram\\vendor\\ptb_urllib3\\urllib3\\exceptions.py:2\u001b[0m\n\u001b[0;32m      1\u001b[0m \u001b[38;5;28;01mfrom\u001b[39;00m \u001b[38;5;21;01m__future__\u001b[39;00m \u001b[38;5;28;01mimport\u001b[39;00m absolute_import\n\u001b[1;32m----> 2\u001b[0m \u001b[38;5;28;01mfrom\u001b[39;00m \u001b[38;5;21;01m.\u001b[39;00m\u001b[38;5;21;01mpackages\u001b[39;00m\u001b[38;5;21;01m.\u001b[39;00m\u001b[38;5;21;01msix\u001b[39;00m\u001b[38;5;21;01m.\u001b[39;00m\u001b[38;5;21;01mmoves\u001b[39;00m\u001b[38;5;21;01m.\u001b[39;00m\u001b[38;5;21;01mhttp_client\u001b[39;00m \u001b[38;5;28;01mimport\u001b[39;00m (\n\u001b[0;32m      3\u001b[0m     IncompleteRead \u001b[38;5;28;01mas\u001b[39;00m httplib_IncompleteRead\n\u001b[0;32m      4\u001b[0m )\n\u001b[0;32m      5\u001b[0m \u001b[38;5;66;03m# Base Exceptions\u001b[39;00m\n",
      "\u001b[1;31mModuleNotFoundError\u001b[0m: No module named 'telegram.vendor.ptb_urllib3.urllib3.packages.six.moves'",
      "\nDuring handling of the above exception, another exception occurred:\n",
      "\u001b[1;31mModuleNotFoundError\u001b[0m                       Traceback (most recent call last)",
      "Cell \u001b[1;32mIn[18], line 1\u001b[0m\n\u001b[1;32m----> 1\u001b[0m \u001b[38;5;28;01mimport\u001b[39;00m \u001b[38;5;21;01mtelegram\u001b[39;00m\n\u001b[0;32m      2\u001b[0m \u001b[38;5;28;01mimport\u001b[39;00m \u001b[38;5;21;01masyncio\u001b[39;00m\n\u001b[0;32m      4\u001b[0m \u001b[38;5;28;01mdef\u001b[39;00m \u001b[38;5;21mmain\u001b[39m():\n",
      "File \u001b[1;32mc:\\pusun\\Lib\\site-packages\\telegram\\__init__.py:186\u001b[0m\n\u001b[0;32m    168\u001b[0m \u001b[38;5;28;01mfrom\u001b[39;00m \u001b[38;5;21;01m.\u001b[39;00m\u001b[38;5;21;01mpassport\u001b[39;00m\u001b[38;5;21;01m.\u001b[39;00m\u001b[38;5;21;01mcredentials\u001b[39;00m \u001b[38;5;28;01mimport\u001b[39;00m (\n\u001b[0;32m    169\u001b[0m     Credentials,\n\u001b[0;32m    170\u001b[0m     DataCredentials,\n\u001b[1;32m   (...)\u001b[0m\n\u001b[0;32m    174\u001b[0m     TelegramDecryptionError,\n\u001b[0;32m    175\u001b[0m )\n\u001b[0;32m    176\u001b[0m \u001b[38;5;28;01mfrom\u001b[39;00m \u001b[38;5;21;01m.\u001b[39;00m\u001b[38;5;21;01mbotcommandscope\u001b[39;00m \u001b[38;5;28;01mimport\u001b[39;00m (\n\u001b[0;32m    177\u001b[0m     BotCommandScope,\n\u001b[0;32m    178\u001b[0m     BotCommandScopeDefault,\n\u001b[1;32m   (...)\u001b[0m\n\u001b[0;32m    184\u001b[0m     BotCommandScopeChatMember,\n\u001b[0;32m    185\u001b[0m )\n\u001b[1;32m--> 186\u001b[0m \u001b[38;5;28;01mfrom\u001b[39;00m \u001b[38;5;21;01m.\u001b[39;00m\u001b[38;5;21;01mbot\u001b[39;00m \u001b[38;5;28;01mimport\u001b[39;00m Bot\n\u001b[0;32m    187\u001b[0m \u001b[38;5;28;01mfrom\u001b[39;00m \u001b[38;5;21;01m.\u001b[39;00m\u001b[38;5;21;01mversion\u001b[39;00m \u001b[38;5;28;01mimport\u001b[39;00m __version__, bot_api_version  \u001b[38;5;66;03m# noqa: F401\u001b[39;00m\n\u001b[0;32m    189\u001b[0m __author__ \u001b[38;5;241m=\u001b[39m \u001b[38;5;124m'\u001b[39m\u001b[38;5;124mdevs@python-telegram-bot.org\u001b[39m\u001b[38;5;124m'\u001b[39m\n",
      "File \u001b[1;32mc:\\pusun\\Lib\\site-packages\\telegram\\bot.py:106\u001b[0m\n\u001b[0;32m     97\u001b[0m \u001b[38;5;28;01mfrom\u001b[39;00m \u001b[38;5;21;01mtelegram\u001b[39;00m\u001b[38;5;21;01m.\u001b[39;00m\u001b[38;5;21;01mutils\u001b[39;00m\u001b[38;5;21;01m.\u001b[39;00m\u001b[38;5;21;01mdeprecate\u001b[39;00m \u001b[38;5;28;01mimport\u001b[39;00m TelegramDeprecationWarning\n\u001b[0;32m     98\u001b[0m \u001b[38;5;28;01mfrom\u001b[39;00m \u001b[38;5;21;01mtelegram\u001b[39;00m\u001b[38;5;21;01m.\u001b[39;00m\u001b[38;5;21;01mutils\u001b[39;00m\u001b[38;5;21;01m.\u001b[39;00m\u001b[38;5;21;01mhelpers\u001b[39;00m \u001b[38;5;28;01mimport\u001b[39;00m (\n\u001b[0;32m     99\u001b[0m     DEFAULT_NONE,\n\u001b[0;32m    100\u001b[0m     DefaultValue,\n\u001b[1;32m   (...)\u001b[0m\n\u001b[0;32m    104\u001b[0m     DEFAULT_20,\n\u001b[0;32m    105\u001b[0m )\n\u001b[1;32m--> 106\u001b[0m \u001b[38;5;28;01mfrom\u001b[39;00m \u001b[38;5;21;01mtelegram\u001b[39;00m\u001b[38;5;21;01m.\u001b[39;00m\u001b[38;5;21;01mutils\u001b[39;00m\u001b[38;5;21;01m.\u001b[39;00m\u001b[38;5;21;01mrequest\u001b[39;00m \u001b[38;5;28;01mimport\u001b[39;00m Request\n\u001b[0;32m    107\u001b[0m \u001b[38;5;28;01mfrom\u001b[39;00m \u001b[38;5;21;01mtelegram\u001b[39;00m\u001b[38;5;21;01m.\u001b[39;00m\u001b[38;5;21;01mutils\u001b[39;00m\u001b[38;5;21;01m.\u001b[39;00m\u001b[38;5;21;01mtypes\u001b[39;00m \u001b[38;5;28;01mimport\u001b[39;00m FileInput, JSONDict, ODVInput, DVInput\n\u001b[0;32m    109\u001b[0m \u001b[38;5;28;01mif\u001b[39;00m TYPE_CHECKING:\n",
      "File \u001b[1;32mc:\\pusun\\Lib\\site-packages\\telegram\\utils\\request.py:44\u001b[0m\n\u001b[0;32m     42\u001b[0m \u001b[38;5;28;01mtry\u001b[39;00m:\n\u001b[0;32m     43\u001b[0m     \u001b[38;5;28;01mimport\u001b[39;00m \u001b[38;5;21;01murllib3\u001b[39;00m  \u001b[38;5;66;03m# type: ignore[no-redef]\u001b[39;00m\n\u001b[1;32m---> 44\u001b[0m     \u001b[38;5;28;01mimport\u001b[39;00m \u001b[38;5;21;01murllib3\u001b[39;00m\u001b[38;5;21;01m.\u001b[39;00m\u001b[38;5;21;01mcontrib\u001b[39;00m\u001b[38;5;21;01m.\u001b[39;00m\u001b[38;5;21;01mappengine\u001b[39;00m \u001b[38;5;28;01mas\u001b[39;00m \u001b[38;5;21;01mappengine\u001b[39;00m  \u001b[38;5;66;03m# type: ignore[no-redef]\u001b[39;00m\n\u001b[0;32m     45\u001b[0m     \u001b[38;5;28;01mfrom\u001b[39;00m \u001b[38;5;21;01murllib3\u001b[39;00m\u001b[38;5;21;01m.\u001b[39;00m\u001b[38;5;21;01mconnection\u001b[39;00m \u001b[38;5;28;01mimport\u001b[39;00m HTTPConnection  \u001b[38;5;66;03m# type: ignore[no-redef]\u001b[39;00m\n\u001b[0;32m     46\u001b[0m     \u001b[38;5;28;01mfrom\u001b[39;00m \u001b[38;5;21;01murllib3\u001b[39;00m\u001b[38;5;21;01m.\u001b[39;00m\u001b[38;5;21;01mfields\u001b[39;00m \u001b[38;5;28;01mimport\u001b[39;00m RequestField  \u001b[38;5;66;03m# type: ignore[no-redef]\u001b[39;00m\n",
      "\u001b[1;31mModuleNotFoundError\u001b[0m: No module named 'urllib3.contrib.appengine'"
     ]
    }
   ],
   "source": [
    "import telegram\n",
    "import asyncio\n",
    "\n",
    "def main():\n",
    "\n",
    "    token = \"6921560720:AAG924Xtc9Zu2WGj6YE0BLxCMYTC9WVxxqg\"\n",
    "    bot = telegram.Bot(token)\n",
    "\n",
    "main()\n",
    "\n",
    "await bot.send_message(chat_id=\"6403243052\", text=\"성공했셔???\")"
   ]
  }
 ],
 "metadata": {
  "kernelspec": {
   "display_name": "Python 3",
   "language": "python",
   "name": "python3"
  },
  "language_info": {
   "codemirror_mode": {
    "name": "ipython",
    "version": 3
   },
   "file_extension": ".py",
   "mimetype": "text/x-python",
   "name": "python",
   "nbconvert_exporter": "python",
   "pygments_lexer": "ipython3",
   "version": "3.12.1"
  },
  "orig_nbformat": 4
 },
 "nbformat": 4,
 "nbformat_minor": 2
}
